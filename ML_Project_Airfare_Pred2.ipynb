{
  "cells": [
    {
      "cell_type": "code",
      "execution_count": 1,
      "metadata": {
        "id": "bJGaS0IIKM3e"
      },
      "outputs": [],
      "source": [
        "import io\n",
        "import pandas as pd\n",
        "import numpy as np\n",
        "import matplotlib.pyplot as plt\n",
        "import seaborn as sns"
      ]
    },
    {
      "cell_type": "code",
      "execution_count": 2,
      "metadata": {
        "id": "xhWz_S3gK2VQ"
      },
      "outputs": [],
      "source": [
        "path=\"D:/MTECH CSE/MLDM Project/airflight_train (1).csv\"\n",
        "data=pd.read_csv(path)\n",
        "df=pd.DataFrame(data)"
      ]
    },
    {
      "cell_type": "code",
      "execution_count": 3,
      "metadata": {
        "colab": {
          "base_uri": "https://localhost:8080/",
          "height": 478
        },
        "id": "caRUTyafMoFV",
        "outputId": "df0dbcf5-f92c-4a35-a803-972b423d7f52"
      },
      "outputs": [
        {
          "data": {
            "text/html": [
              "<div>\n",
              "<style scoped>\n",
              "    .dataframe tbody tr th:only-of-type {\n",
              "        vertical-align: middle;\n",
              "    }\n",
              "\n",
              "    .dataframe tbody tr th {\n",
              "        vertical-align: top;\n",
              "    }\n",
              "\n",
              "    .dataframe thead th {\n",
              "        text-align: right;\n",
              "    }\n",
              "</style>\n",
              "<table border=\"1\" class=\"dataframe\">\n",
              "  <thead>\n",
              "    <tr style=\"text-align: right;\">\n",
              "      <th></th>\n",
              "      <th>Flight_ID</th>\n",
              "      <th>Airline</th>\n",
              "      <th>Departure_City</th>\n",
              "      <th>Arrival_City</th>\n",
              "      <th>Distance</th>\n",
              "      <th>Departure_Time</th>\n",
              "      <th>Arrival_Time</th>\n",
              "      <th>Duration</th>\n",
              "      <th>Aircraft_Type</th>\n",
              "      <th>Number_of_Stops</th>\n",
              "      <th>Day_of_Week</th>\n",
              "      <th>Month_of_Travel</th>\n",
              "      <th>Holiday_Season</th>\n",
              "      <th>Demand</th>\n",
              "      <th>Weather_Conditions</th>\n",
              "      <th>Passenger_Count</th>\n",
              "      <th>Promotion_Type</th>\n",
              "      <th>Fuel_Price</th>\n",
              "      <th>Flight_Price</th>\n",
              "    </tr>\n",
              "  </thead>\n",
              "  <tbody>\n",
              "    <tr>\n",
              "      <th>0</th>\n",
              "      <td>F1</td>\n",
              "      <td>Airline B</td>\n",
              "      <td>NaN</td>\n",
              "      <td>Greenshire</td>\n",
              "      <td>8286.0</td>\n",
              "      <td>8:23</td>\n",
              "      <td>20:19</td>\n",
              "      <td>11.94</td>\n",
              "      <td>Boeing 787</td>\n",
              "      <td>0</td>\n",
              "      <td>Wednesday</td>\n",
              "      <td>December</td>\n",
              "      <td>Summer</td>\n",
              "      <td>Low</td>\n",
              "      <td>Rain</td>\n",
              "      <td>240</td>\n",
              "      <td>Special Offer</td>\n",
              "      <td>0.91</td>\n",
              "      <td>643.93</td>\n",
              "    </tr>\n",
              "    <tr>\n",
              "      <th>1</th>\n",
              "      <td>F2</td>\n",
              "      <td>Airline C</td>\n",
              "      <td>Leonardland</td>\n",
              "      <td>New Stephen</td>\n",
              "      <td>2942.0</td>\n",
              "      <td>20:28</td>\n",
              "      <td>1:45</td>\n",
              "      <td>5.29</td>\n",
              "      <td>Airbus A320</td>\n",
              "      <td>0</td>\n",
              "      <td>Wednesday</td>\n",
              "      <td>March</td>\n",
              "      <td>Spring</td>\n",
              "      <td>Low</td>\n",
              "      <td>Rain</td>\n",
              "      <td>107</td>\n",
              "      <td>NaN</td>\n",
              "      <td>1.08</td>\n",
              "      <td>423.13</td>\n",
              "    </tr>\n",
              "    <tr>\n",
              "      <th>2</th>\n",
              "      <td>F3</td>\n",
              "      <td>Airline B</td>\n",
              "      <td>South Dylanville</td>\n",
              "      <td>Port Ambermouth</td>\n",
              "      <td>2468.0</td>\n",
              "      <td>11:30</td>\n",
              "      <td>15:54</td>\n",
              "      <td>4.41</td>\n",
              "      <td>Boeing 787</td>\n",
              "      <td>1</td>\n",
              "      <td>Sunday</td>\n",
              "      <td>September</td>\n",
              "      <td>Summer</td>\n",
              "      <td>High</td>\n",
              "      <td>Cloudy</td>\n",
              "      <td>131</td>\n",
              "      <td>NaN</td>\n",
              "      <td>0.52</td>\n",
              "      <td>442.17</td>\n",
              "    </tr>\n",
              "    <tr>\n",
              "      <th>3</th>\n",
              "      <td>F4</td>\n",
              "      <td>NaN</td>\n",
              "      <td>Blakefort</td>\n",
              "      <td>Crosbyberg</td>\n",
              "      <td>3145.0</td>\n",
              "      <td>20:24</td>\n",
              "      <td>1:21</td>\n",
              "      <td>4.96</td>\n",
              "      <td>Boeing 787</td>\n",
              "      <td>0</td>\n",
              "      <td>Sunday</td>\n",
              "      <td>February</td>\n",
              "      <td>Fall</td>\n",
              "      <td>Low</td>\n",
              "      <td>Cloudy</td>\n",
              "      <td>170</td>\n",
              "      <td>Discount</td>\n",
              "      <td>0.71</td>\n",
              "      <td>394.42</td>\n",
              "    </tr>\n",
              "    <tr>\n",
              "      <th>4</th>\n",
              "      <td>F5</td>\n",
              "      <td>Airline B</td>\n",
              "      <td>Michaelport</td>\n",
              "      <td>Onealborough</td>\n",
              "      <td>5558.0</td>\n",
              "      <td>21:59</td>\n",
              "      <td>6:04</td>\n",
              "      <td>8.09</td>\n",
              "      <td>Boeing 737</td>\n",
              "      <td>1</td>\n",
              "      <td>Thursday</td>\n",
              "      <td>January</td>\n",
              "      <td>NaN</td>\n",
              "      <td>NaN</td>\n",
              "      <td>Clear</td>\n",
              "      <td>181</td>\n",
              "      <td>NaN</td>\n",
              "      <td>1.09</td>\n",
              "      <td>804.35</td>\n",
              "    </tr>\n",
              "    <tr>\n",
              "      <th>...</th>\n",
              "      <td>...</td>\n",
              "      <td>...</td>\n",
              "      <td>...</td>\n",
              "      <td>...</td>\n",
              "      <td>...</td>\n",
              "      <td>...</td>\n",
              "      <td>...</td>\n",
              "      <td>...</td>\n",
              "      <td>...</td>\n",
              "      <td>...</td>\n",
              "      <td>...</td>\n",
              "      <td>...</td>\n",
              "      <td>...</td>\n",
              "      <td>...</td>\n",
              "      <td>...</td>\n",
              "      <td>...</td>\n",
              "      <td>...</td>\n",
              "      <td>...</td>\n",
              "      <td>...</td>\n",
              "    </tr>\n",
              "    <tr>\n",
              "      <th>44995</th>\n",
              "      <td>F44996</td>\n",
              "      <td>Airline B</td>\n",
              "      <td>Port Donaldland</td>\n",
              "      <td>Maryshire</td>\n",
              "      <td>3884.0</td>\n",
              "      <td>21:49</td>\n",
              "      <td>3:31</td>\n",
              "      <td>5.70</td>\n",
              "      <td>Boeing 787</td>\n",
              "      <td>1</td>\n",
              "      <td>Sunday</td>\n",
              "      <td>May</td>\n",
              "      <td>Fall</td>\n",
              "      <td>Low</td>\n",
              "      <td>Clear</td>\n",
              "      <td>263</td>\n",
              "      <td>Discount</td>\n",
              "      <td>0.69</td>\n",
              "      <td>417.18</td>\n",
              "    </tr>\n",
              "    <tr>\n",
              "      <th>44996</th>\n",
              "      <td>F44997</td>\n",
              "      <td>Airline A</td>\n",
              "      <td>East Patriciafurt</td>\n",
              "      <td>East Vickiberg</td>\n",
              "      <td>9191.0</td>\n",
              "      <td>22:50</td>\n",
              "      <td>11:48</td>\n",
              "      <td>12.97</td>\n",
              "      <td>Airbus A320</td>\n",
              "      <td>1</td>\n",
              "      <td>Friday</td>\n",
              "      <td>December</td>\n",
              "      <td>Fall</td>\n",
              "      <td>Low</td>\n",
              "      <td>Snow</td>\n",
              "      <td>168</td>\n",
              "      <td>Discount</td>\n",
              "      <td>0.74</td>\n",
              "      <td>687.03</td>\n",
              "    </tr>\n",
              "    <tr>\n",
              "      <th>44997</th>\n",
              "      <td>F44998</td>\n",
              "      <td>Airline C</td>\n",
              "      <td>Monicaton</td>\n",
              "      <td>West Johnburgh</td>\n",
              "      <td>6757.0</td>\n",
              "      <td>2:33</td>\n",
              "      <td>11:21</td>\n",
              "      <td>8.81</td>\n",
              "      <td>Boeing 777</td>\n",
              "      <td>1</td>\n",
              "      <td>Wednesday</td>\n",
              "      <td>October</td>\n",
              "      <td>Fall</td>\n",
              "      <td>Low</td>\n",
              "      <td>Snow</td>\n",
              "      <td>244</td>\n",
              "      <td>Special Offer</td>\n",
              "      <td>0.83</td>\n",
              "      <td>547.39</td>\n",
              "    </tr>\n",
              "    <tr>\n",
              "      <th>44998</th>\n",
              "      <td>F44999</td>\n",
              "      <td>Airline B</td>\n",
              "      <td>Turnerburgh</td>\n",
              "      <td>Gabrielville</td>\n",
              "      <td>3587.0</td>\n",
              "      <td>13:25</td>\n",
              "      <td>19:37</td>\n",
              "      <td>6.21</td>\n",
              "      <td>Boeing 737</td>\n",
              "      <td>0</td>\n",
              "      <td>Saturday</td>\n",
              "      <td>June</td>\n",
              "      <td>NaN</td>\n",
              "      <td>Medium</td>\n",
              "      <td>Cloudy</td>\n",
              "      <td>121</td>\n",
              "      <td>Special Offer</td>\n",
              "      <td>0.60</td>\n",
              "      <td>487.67</td>\n",
              "    </tr>\n",
              "    <tr>\n",
              "      <th>44999</th>\n",
              "      <td>F45000</td>\n",
              "      <td>Airline B</td>\n",
              "      <td>Harrisport</td>\n",
              "      <td>Chelsealand</td>\n",
              "      <td>4890.0</td>\n",
              "      <td>3:37</td>\n",
              "      <td>11:19</td>\n",
              "      <td>7.70</td>\n",
              "      <td>Airbus A320</td>\n",
              "      <td>0</td>\n",
              "      <td>Monday</td>\n",
              "      <td>December</td>\n",
              "      <td>Winter</td>\n",
              "      <td>Low</td>\n",
              "      <td>Rain</td>\n",
              "      <td>91</td>\n",
              "      <td>NaN</td>\n",
              "      <td>0.95</td>\n",
              "      <td>532.92</td>\n",
              "    </tr>\n",
              "  </tbody>\n",
              "</table>\n",
              "<p>45000 rows × 19 columns</p>\n",
              "</div>"
            ],
            "text/plain": [
              "      Flight_ID    Airline     Departure_City     Arrival_City  Distance  \\\n",
              "0            F1  Airline B                NaN       Greenshire    8286.0   \n",
              "1            F2  Airline C        Leonardland      New Stephen    2942.0   \n",
              "2            F3  Airline B   South Dylanville  Port Ambermouth    2468.0   \n",
              "3            F4        NaN          Blakefort       Crosbyberg    3145.0   \n",
              "4            F5  Airline B        Michaelport     Onealborough    5558.0   \n",
              "...         ...        ...                ...              ...       ...   \n",
              "44995    F44996  Airline B    Port Donaldland        Maryshire    3884.0   \n",
              "44996    F44997  Airline A  East Patriciafurt   East Vickiberg    9191.0   \n",
              "44997    F44998  Airline C          Monicaton   West Johnburgh    6757.0   \n",
              "44998    F44999  Airline B        Turnerburgh     Gabrielville    3587.0   \n",
              "44999    F45000  Airline B         Harrisport      Chelsealand    4890.0   \n",
              "\n",
              "      Departure_Time Arrival_Time  Duration Aircraft_Type  Number_of_Stops  \\\n",
              "0               8:23        20:19     11.94    Boeing 787                0   \n",
              "1              20:28         1:45      5.29   Airbus A320                0   \n",
              "2              11:30        15:54      4.41    Boeing 787                1   \n",
              "3              20:24         1:21      4.96    Boeing 787                0   \n",
              "4              21:59         6:04      8.09    Boeing 737                1   \n",
              "...              ...          ...       ...           ...              ...   \n",
              "44995          21:49         3:31      5.70    Boeing 787                1   \n",
              "44996          22:50        11:48     12.97   Airbus A320                1   \n",
              "44997           2:33        11:21      8.81    Boeing 777                1   \n",
              "44998          13:25        19:37      6.21    Boeing 737                0   \n",
              "44999           3:37        11:19      7.70   Airbus A320                0   \n",
              "\n",
              "      Day_of_Week Month_of_Travel Holiday_Season  Demand Weather_Conditions  \\\n",
              "0       Wednesday        December         Summer     Low               Rain   \n",
              "1       Wednesday           March         Spring     Low               Rain   \n",
              "2          Sunday       September         Summer    High             Cloudy   \n",
              "3          Sunday        February           Fall     Low             Cloudy   \n",
              "4        Thursday         January            NaN     NaN              Clear   \n",
              "...           ...             ...            ...     ...                ...   \n",
              "44995      Sunday             May           Fall     Low              Clear   \n",
              "44996      Friday        December           Fall     Low               Snow   \n",
              "44997   Wednesday         October           Fall     Low               Snow   \n",
              "44998    Saturday            June            NaN  Medium             Cloudy   \n",
              "44999      Monday        December         Winter     Low               Rain   \n",
              "\n",
              "       Passenger_Count Promotion_Type  Fuel_Price  Flight_Price  \n",
              "0                  240  Special Offer        0.91        643.93  \n",
              "1                  107            NaN        1.08        423.13  \n",
              "2                  131            NaN        0.52        442.17  \n",
              "3                  170       Discount        0.71        394.42  \n",
              "4                  181            NaN        1.09        804.35  \n",
              "...                ...            ...         ...           ...  \n",
              "44995              263       Discount        0.69        417.18  \n",
              "44996              168       Discount        0.74        687.03  \n",
              "44997              244  Special Offer        0.83        547.39  \n",
              "44998              121  Special Offer        0.60        487.67  \n",
              "44999               91            NaN        0.95        532.92  \n",
              "\n",
              "[45000 rows x 19 columns]"
            ]
          },
          "execution_count": 3,
          "metadata": {},
          "output_type": "execute_result"
        }
      ],
      "source": [
        "df"
      ]
    },
    {
      "cell_type": "code",
      "execution_count": 4,
      "metadata": {},
      "outputs": [],
      "source": [
        "df.drop(labels=['Flight_ID','Holiday_Season'],axis=1,inplace=True)"
      ]
    },
    {
      "cell_type": "code",
      "execution_count": 5,
      "metadata": {
        "colab": {
          "base_uri": "https://localhost:8080/"
        },
        "id": "HxWTgrRCMozg",
        "outputId": "e3e4de61-e8a0-479d-e712-c974cbe0f9c4"
      },
      "outputs": [
        {
          "data": {
            "text/plain": [
              "Airline                3573\n",
              "Departure_City          340\n",
              "Arrival_City            186\n",
              "Distance                 91\n",
              "Departure_Time            0\n",
              "Arrival_Time              0\n",
              "Duration                  0\n",
              "Aircraft_Type            43\n",
              "Number_of_Stops           0\n",
              "Day_of_Week             225\n",
              "Month_of_Travel         267\n",
              "Demand                  317\n",
              "Weather_Conditions      302\n",
              "Passenger_Count           0\n",
              "Promotion_Type        15215\n",
              "Fuel_Price               90\n",
              "Flight_Price              0\n",
              "dtype: int64"
            ]
          },
          "execution_count": 5,
          "metadata": {},
          "output_type": "execute_result"
        }
      ],
      "source": [
        "df.isnull().sum()"
      ]
    },
    {
      "cell_type": "code",
      "execution_count": 6,
      "metadata": {},
      "outputs": [
        {
          "data": {
            "text/plain": [
              "Airline\n",
              "Airline A    13863\n",
              "Airline C    13809\n",
              "Airline B    13755\n",
              "Name: count, dtype: int64"
            ]
          },
          "execution_count": 6,
          "metadata": {},
          "output_type": "execute_result"
        }
      ],
      "source": [
        "df['Airline'].value_counts()"
      ]
    },
    {
      "cell_type": "code",
      "execution_count": 7,
      "metadata": {},
      "outputs": [
        {
          "data": {
            "text/plain": [
              "Demand\n",
              "Low       28946\n",
              "Medium     8954\n",
              "High       6783\n",
              "Name: count, dtype: int64"
            ]
          },
          "execution_count": 7,
          "metadata": {},
          "output_type": "execute_result"
        }
      ],
      "source": [
        "df['Demand'].value_counts()"
      ]
    },
    {
      "cell_type": "code",
      "execution_count": 10,
      "metadata": {},
      "outputs": [
        {
          "data": {
            "text/plain": [
              "Promotion_Type\n",
              "No Offer         15215\n",
              "Special Offer    14896\n",
              "Discount         14889\n",
              "Name: count, dtype: int64"
            ]
          },
          "execution_count": 10,
          "metadata": {},
          "output_type": "execute_result"
        }
      ],
      "source": [
        "df['Promotion_Type'].value_counts()"
      ]
    },
    {
      "cell_type": "code",
      "execution_count": 9,
      "metadata": {},
      "outputs": [],
      "source": [
        "df['Demand'] = df['Demand'].fillna('Low')\n",
        "df['Promotion_Type'] = df['Promotion_Type'].fillna('No Offer')"
      ]
    },
    {
      "cell_type": "code",
      "execution_count": 97,
      "metadata": {
        "id": "6y6uUR4qOf_u"
      },
      "outputs": [],
      "source": [
        "df.dropna(inplace=True)"
      ]
    },
    {
      "cell_type": "code",
      "execution_count": 98,
      "metadata": {},
      "outputs": [
        {
          "data": {
            "text/plain": [
              "(40004, 17)"
            ]
          },
          "execution_count": 98,
          "metadata": {},
          "output_type": "execute_result"
        }
      ],
      "source": [
        "df.shape"
      ]
    },
    {
      "cell_type": "code",
      "execution_count": 99,
      "metadata": {},
      "outputs": [
        {
          "data": {
            "text/html": [
              "<div>\n",
              "<style scoped>\n",
              "    .dataframe tbody tr th:only-of-type {\n",
              "        vertical-align: middle;\n",
              "    }\n",
              "\n",
              "    .dataframe tbody tr th {\n",
              "        vertical-align: top;\n",
              "    }\n",
              "\n",
              "    .dataframe thead th {\n",
              "        text-align: right;\n",
              "    }\n",
              "</style>\n",
              "<table border=\"1\" class=\"dataframe\">\n",
              "  <thead>\n",
              "    <tr style=\"text-align: right;\">\n",
              "      <th></th>\n",
              "      <th>Airline</th>\n",
              "      <th>Departure_City</th>\n",
              "      <th>Arrival_City</th>\n",
              "      <th>Distance</th>\n",
              "      <th>Departure_Time</th>\n",
              "      <th>Arrival_Time</th>\n",
              "      <th>Duration</th>\n",
              "      <th>Aircraft_Type</th>\n",
              "      <th>Number_of_Stops</th>\n",
              "      <th>Day_of_Week</th>\n",
              "      <th>Month_of_Travel</th>\n",
              "      <th>Demand</th>\n",
              "      <th>Weather_Conditions</th>\n",
              "      <th>Passenger_Count</th>\n",
              "      <th>Promotion_Type</th>\n",
              "      <th>Fuel_Price</th>\n",
              "      <th>Flight_Price</th>\n",
              "    </tr>\n",
              "  </thead>\n",
              "  <tbody>\n",
              "    <tr>\n",
              "      <th>1</th>\n",
              "      <td>Airline C</td>\n",
              "      <td>Leonardland</td>\n",
              "      <td>New Stephen</td>\n",
              "      <td>2942.0</td>\n",
              "      <td>Night</td>\n",
              "      <td>Late Night</td>\n",
              "      <td>5.29</td>\n",
              "      <td>Airbus A320</td>\n",
              "      <td>0</td>\n",
              "      <td>Wednesday</td>\n",
              "      <td>March</td>\n",
              "      <td>Low</td>\n",
              "      <td>Rain</td>\n",
              "      <td>107</td>\n",
              "      <td>No Offer</td>\n",
              "      <td>1.08</td>\n",
              "      <td>423.13</td>\n",
              "    </tr>\n",
              "    <tr>\n",
              "      <th>2</th>\n",
              "      <td>Airline B</td>\n",
              "      <td>South Dylanville</td>\n",
              "      <td>Port Ambermouth</td>\n",
              "      <td>2468.0</td>\n",
              "      <td>Morning</td>\n",
              "      <td>Afternoon</td>\n",
              "      <td>4.41</td>\n",
              "      <td>Boeing 787</td>\n",
              "      <td>1</td>\n",
              "      <td>Sunday</td>\n",
              "      <td>September</td>\n",
              "      <td>High</td>\n",
              "      <td>Cloudy</td>\n",
              "      <td>131</td>\n",
              "      <td>No Offer</td>\n",
              "      <td>0.52</td>\n",
              "      <td>442.17</td>\n",
              "    </tr>\n",
              "    <tr>\n",
              "      <th>4</th>\n",
              "      <td>Airline B</td>\n",
              "      <td>Michaelport</td>\n",
              "      <td>Onealborough</td>\n",
              "      <td>5558.0</td>\n",
              "      <td>Night</td>\n",
              "      <td>Morning</td>\n",
              "      <td>8.09</td>\n",
              "      <td>Boeing 737</td>\n",
              "      <td>1</td>\n",
              "      <td>Thursday</td>\n",
              "      <td>January</td>\n",
              "      <td>Low</td>\n",
              "      <td>Clear</td>\n",
              "      <td>181</td>\n",
              "      <td>No Offer</td>\n",
              "      <td>1.09</td>\n",
              "      <td>804.35</td>\n",
              "    </tr>\n",
              "    <tr>\n",
              "      <th>6</th>\n",
              "      <td>Airline B</td>\n",
              "      <td>West Samanthaland</td>\n",
              "      <td>Port Brentport</td>\n",
              "      <td>3274.0</td>\n",
              "      <td>Evening</td>\n",
              "      <td>Night</td>\n",
              "      <td>5.60</td>\n",
              "      <td>Boeing 787</td>\n",
              "      <td>0</td>\n",
              "      <td>Wednesday</td>\n",
              "      <td>January</td>\n",
              "      <td>Low</td>\n",
              "      <td>Clear</td>\n",
              "      <td>248</td>\n",
              "      <td>Special Offer</td>\n",
              "      <td>1.03</td>\n",
              "      <td>429.53</td>\n",
              "    </tr>\n",
              "    <tr>\n",
              "      <th>8</th>\n",
              "      <td>Airline C</td>\n",
              "      <td>Bryanland</td>\n",
              "      <td>Jessebury</td>\n",
              "      <td>1116.0</td>\n",
              "      <td>Morning</td>\n",
              "      <td>Afternoon</td>\n",
              "      <td>2.46</td>\n",
              "      <td>Airbus A320</td>\n",
              "      <td>0</td>\n",
              "      <td>Wednesday</td>\n",
              "      <td>June</td>\n",
              "      <td>Medium</td>\n",
              "      <td>Cloudy</td>\n",
              "      <td>56</td>\n",
              "      <td>No Offer</td>\n",
              "      <td>0.85</td>\n",
              "      <td>385.73</td>\n",
              "    </tr>\n",
              "    <tr>\n",
              "      <th>...</th>\n",
              "      <td>...</td>\n",
              "      <td>...</td>\n",
              "      <td>...</td>\n",
              "      <td>...</td>\n",
              "      <td>...</td>\n",
              "      <td>...</td>\n",
              "      <td>...</td>\n",
              "      <td>...</td>\n",
              "      <td>...</td>\n",
              "      <td>...</td>\n",
              "      <td>...</td>\n",
              "      <td>...</td>\n",
              "      <td>...</td>\n",
              "      <td>...</td>\n",
              "      <td>...</td>\n",
              "      <td>...</td>\n",
              "      <td>...</td>\n",
              "    </tr>\n",
              "    <tr>\n",
              "      <th>44995</th>\n",
              "      <td>Airline B</td>\n",
              "      <td>Port Donaldland</td>\n",
              "      <td>Maryshire</td>\n",
              "      <td>3884.0</td>\n",
              "      <td>Night</td>\n",
              "      <td>Late Night</td>\n",
              "      <td>5.70</td>\n",
              "      <td>Boeing 787</td>\n",
              "      <td>1</td>\n",
              "      <td>Sunday</td>\n",
              "      <td>May</td>\n",
              "      <td>Low</td>\n",
              "      <td>Clear</td>\n",
              "      <td>263</td>\n",
              "      <td>Discount</td>\n",
              "      <td>0.69</td>\n",
              "      <td>417.18</td>\n",
              "    </tr>\n",
              "    <tr>\n",
              "      <th>44996</th>\n",
              "      <td>Airline A</td>\n",
              "      <td>East Patriciafurt</td>\n",
              "      <td>East Vickiberg</td>\n",
              "      <td>9191.0</td>\n",
              "      <td>Night</td>\n",
              "      <td>Morning</td>\n",
              "      <td>12.97</td>\n",
              "      <td>Airbus A320</td>\n",
              "      <td>1</td>\n",
              "      <td>Friday</td>\n",
              "      <td>December</td>\n",
              "      <td>Low</td>\n",
              "      <td>Snow</td>\n",
              "      <td>168</td>\n",
              "      <td>Discount</td>\n",
              "      <td>0.74</td>\n",
              "      <td>687.03</td>\n",
              "    </tr>\n",
              "    <tr>\n",
              "      <th>44997</th>\n",
              "      <td>Airline C</td>\n",
              "      <td>Monicaton</td>\n",
              "      <td>West Johnburgh</td>\n",
              "      <td>6757.0</td>\n",
              "      <td>Late Night</td>\n",
              "      <td>Morning</td>\n",
              "      <td>8.81</td>\n",
              "      <td>Boeing 777</td>\n",
              "      <td>1</td>\n",
              "      <td>Wednesday</td>\n",
              "      <td>October</td>\n",
              "      <td>Low</td>\n",
              "      <td>Snow</td>\n",
              "      <td>244</td>\n",
              "      <td>Special Offer</td>\n",
              "      <td>0.83</td>\n",
              "      <td>547.39</td>\n",
              "    </tr>\n",
              "    <tr>\n",
              "      <th>44998</th>\n",
              "      <td>Airline B</td>\n",
              "      <td>Turnerburgh</td>\n",
              "      <td>Gabrielville</td>\n",
              "      <td>3587.0</td>\n",
              "      <td>Afternoon</td>\n",
              "      <td>Evening</td>\n",
              "      <td>6.21</td>\n",
              "      <td>Boeing 737</td>\n",
              "      <td>0</td>\n",
              "      <td>Saturday</td>\n",
              "      <td>June</td>\n",
              "      <td>Medium</td>\n",
              "      <td>Cloudy</td>\n",
              "      <td>121</td>\n",
              "      <td>Special Offer</td>\n",
              "      <td>0.60</td>\n",
              "      <td>487.67</td>\n",
              "    </tr>\n",
              "    <tr>\n",
              "      <th>44999</th>\n",
              "      <td>Airline B</td>\n",
              "      <td>Harrisport</td>\n",
              "      <td>Chelsealand</td>\n",
              "      <td>4890.0</td>\n",
              "      <td>Late Night</td>\n",
              "      <td>Morning</td>\n",
              "      <td>7.70</td>\n",
              "      <td>Airbus A320</td>\n",
              "      <td>0</td>\n",
              "      <td>Monday</td>\n",
              "      <td>December</td>\n",
              "      <td>Low</td>\n",
              "      <td>Rain</td>\n",
              "      <td>91</td>\n",
              "      <td>No Offer</td>\n",
              "      <td>0.95</td>\n",
              "      <td>532.92</td>\n",
              "    </tr>\n",
              "  </tbody>\n",
              "</table>\n",
              "<p>40004 rows × 17 columns</p>\n",
              "</div>"
            ],
            "text/plain": [
              "         Airline     Departure_City     Arrival_City  Distance Departure_Time  \\\n",
              "1      Airline C        Leonardland      New Stephen    2942.0          Night   \n",
              "2      Airline B   South Dylanville  Port Ambermouth    2468.0        Morning   \n",
              "4      Airline B        Michaelport     Onealborough    5558.0          Night   \n",
              "6      Airline B  West Samanthaland   Port Brentport    3274.0        Evening   \n",
              "8      Airline C          Bryanland        Jessebury    1116.0        Morning   \n",
              "...          ...                ...              ...       ...            ...   \n",
              "44995  Airline B    Port Donaldland        Maryshire    3884.0          Night   \n",
              "44996  Airline A  East Patriciafurt   East Vickiberg    9191.0          Night   \n",
              "44997  Airline C          Monicaton   West Johnburgh    6757.0     Late Night   \n",
              "44998  Airline B        Turnerburgh     Gabrielville    3587.0      Afternoon   \n",
              "44999  Airline B         Harrisport      Chelsealand    4890.0     Late Night   \n",
              "\n",
              "      Arrival_Time  Duration Aircraft_Type  Number_of_Stops Day_of_Week  \\\n",
              "1       Late Night      5.29   Airbus A320                0   Wednesday   \n",
              "2        Afternoon      4.41    Boeing 787                1      Sunday   \n",
              "4          Morning      8.09    Boeing 737                1    Thursday   \n",
              "6            Night      5.60    Boeing 787                0   Wednesday   \n",
              "8        Afternoon      2.46   Airbus A320                0   Wednesday   \n",
              "...            ...       ...           ...              ...         ...   \n",
              "44995   Late Night      5.70    Boeing 787                1      Sunday   \n",
              "44996      Morning     12.97   Airbus A320                1      Friday   \n",
              "44997      Morning      8.81    Boeing 777                1   Wednesday   \n",
              "44998      Evening      6.21    Boeing 737                0    Saturday   \n",
              "44999      Morning      7.70   Airbus A320                0      Monday   \n",
              "\n",
              "      Month_of_Travel  Demand Weather_Conditions  Passenger_Count  \\\n",
              "1               March     Low               Rain              107   \n",
              "2           September    High             Cloudy              131   \n",
              "4             January     Low              Clear              181   \n",
              "6             January     Low              Clear              248   \n",
              "8                June  Medium             Cloudy               56   \n",
              "...               ...     ...                ...              ...   \n",
              "44995             May     Low              Clear              263   \n",
              "44996        December     Low               Snow              168   \n",
              "44997         October     Low               Snow              244   \n",
              "44998            June  Medium             Cloudy              121   \n",
              "44999        December     Low               Rain               91   \n",
              "\n",
              "      Promotion_Type  Fuel_Price  Flight_Price  \n",
              "1           No Offer        1.08        423.13  \n",
              "2           No Offer        0.52        442.17  \n",
              "4           No Offer        1.09        804.35  \n",
              "6      Special Offer        1.03        429.53  \n",
              "8           No Offer        0.85        385.73  \n",
              "...              ...         ...           ...  \n",
              "44995       Discount        0.69        417.18  \n",
              "44996       Discount        0.74        687.03  \n",
              "44997  Special Offer        0.83        547.39  \n",
              "44998  Special Offer        0.60        487.67  \n",
              "44999       No Offer        0.95        532.92  \n",
              "\n",
              "[40004 rows x 17 columns]"
            ]
          },
          "execution_count": 99,
          "metadata": {},
          "output_type": "execute_result"
        }
      ],
      "source": [
        "def encodeDepArr(x):\n",
        "    t = pd.to_datetime(x, format='%H:%M')\n",
        "    hr = t.hour\n",
        "    if 5 <= hr < 12:\n",
        "        return \"Morning\"\n",
        "    elif 12 <= hr < 16:\n",
        "        return \"Afternoon\"\n",
        "    elif 16 <= hr < 20:\n",
        "        return \"Evening\"\n",
        "    elif 20 <= hr < 23:\n",
        "        return \"Night\"\n",
        "    else:\n",
        "        return \"Late Night\"\n",
        "df[['Departure_Time', 'Arrival_Time']] = df[['Departure_Time', 'Arrival_Time']].applymap(encodeDepArr)\n",
        "df"
      ]
    },
    {
      "cell_type": "code",
      "execution_count": 100,
      "metadata": {
        "colab": {
          "base_uri": "https://localhost:8080/",
          "height": 292
        },
        "id": "fN0LmBQ_R4iV",
        "outputId": "eba15156-fba1-4608-b9bb-5d642313d058"
      },
      "outputs": [
        {
          "data": {
            "text/plain": [
              "Arrival_Time\n",
              "Morning       11725\n",
              "Late Night     9956\n",
              "Evening        6792\n",
              "Afternoon      6695\n",
              "Night          4836\n",
              "Name: count, dtype: int64"
            ]
          },
          "execution_count": 100,
          "metadata": {},
          "output_type": "execute_result"
        }
      ],
      "source": [
        "df['Arrival_Time'].value_counts()"
      ]
    },
    {
      "cell_type": "code",
      "execution_count": 101,
      "metadata": {},
      "outputs": [
        {
          "data": {
            "text/plain": [
              "Departure_Time\n",
              "Morning       11692\n",
              "Late Night    10048\n",
              "Afternoon      6728\n",
              "Evening        6542\n",
              "Night          4994\n",
              "Name: count, dtype: int64"
            ]
          },
          "execution_count": 101,
          "metadata": {},
          "output_type": "execute_result"
        }
      ],
      "source": [
        "df['Departure_Time'].value_counts()"
      ]
    },
    {
      "cell_type": "code",
      "execution_count": 102,
      "metadata": {
        "colab": {
          "base_uri": "https://localhost:8080/",
          "height": 487
        },
        "id": "DivvSprfSaST",
        "outputId": "60b39c6a-07f7-4f3e-9126-a7233bda9561"
      },
      "outputs": [
        {
          "data": {
            "image/png": "[encoded data removed]",
            "text/plain": [
              "<Figure size 800x500 with 1 Axes>"
            ]
          },
          "metadata": {},
          "output_type": "display_data"
        }
      ],
      "source": [
        "plt.figure(figsize=(8,5))\n",
        "sns.countplot(x=df['Airline'],data=df)\n",
        "plt.title('Flights Count of Different Airlines')\n",
        "plt.xlabel('Airline')\n",
        "plt.ylabel('Count')\n",
        "plt.show()"
      ]
    },
    {
      "cell_type": "code",
      "execution_count": 103,
      "metadata": {
        "colab": {
          "base_uri": "https://localhost:8080/",
          "height": 495
        },
        "id": "azc0rcBcSfnD",
        "outputId": "9afb017a-8019-4713-ccd1-3e8b615cd412"
      },
      "outputs": [
        {
          "name": "stderr",
          "output_type": "stream",
          "text": [
            "C:\\Users\\Ehtesham Ashraf\\AppData\\Local\\Temp\\ipykernel_34216\\2716229306.py:2: FutureWarning: \n",
            "\n",
            "Passing `palette` without assigning `hue` is deprecated and will be removed in v0.14.0. Assign the `x` variable to `hue` and set `legend=False` for the same effect.\n",
            "\n",
            "  sns.barplot(x=df['Demand'],y=df['Flight_Price'],palette='hls')\n"
          ]
        },
        {
          "data": {
            "image/png": "[encoded data removed]",
            "text/plain": [
              "<Figure size 800x500 with 1 Axes>"
            ]
          },
          "metadata": {},
          "output_type": "display_data"
        }
      ],
      "source": [
        "plt.figure(figsize=(8,5))\n",
        "sns.barplot(x=df['Demand'],y=df['Flight_Price'],palette='hls')\n",
        "plt.title('Flight fare during different demand period',fontsize=15)\n",
        "plt.xlabel('Demand',fontsize=15)\n",
        "plt.ylabel('Fare',fontsize=15)\n",
        "plt.show()"
      ]
    },
    {
      "cell_type": "code",
      "execution_count": 104,
      "metadata": {
        "colab": {
          "base_uri": "https://localhost:8080/",
          "height": 496
        },
        "id": "r32WqaMCYAuT",
        "outputId": "b08dbcd4-fce0-4f08-a673-bd92958b9439"
      },
      "outputs": [
        {
          "name": "stderr",
          "output_type": "stream",
          "text": [
            "C:\\Users\\Ehtesham Ashraf\\AppData\\Local\\Temp\\ipykernel_34216\\2825970922.py:2: FutureWarning: \n",
            "\n",
            "Passing `palette` without assigning `hue` is deprecated and will be removed in v0.14.0. Assign the `x` variable to `hue` and set `legend=False` for the same effect.\n",
            "\n",
            "  sns.barplot(x=df['Weather_Conditions'],y=df['Flight_Price'],palette='hls')\n"
          ]
        },
        {
          "data": {
            "image/png": "[encoded data removed]",
            "text/plain": [
              "<Figure size 800x500 with 1 Axes>"
            ]
          },
          "metadata": {},
          "output_type": "display_data"
        }
      ],
      "source": [
        "plt.figure(figsize=(8,5))\n",
        "sns.barplot(x=df['Weather_Conditions'],y=df['Flight_Price'],palette='hls')\n",
        "plt.title('Flight fare during different Weather_Conditions',fontsize=15)\n",
        "plt.xlabel('Weather_Conditions',fontsize=15)\n",
        "plt.ylabel('Fare',fontsize=15)\n",
        "plt.show()"
      ]
    },
    {
      "cell_type": "code",
      "execution_count": 105,
      "metadata": {
        "colab": {
          "base_uri": "https://localhost:8080/"
        },
        "id": "WBa5xdygZ355",
        "outputId": "584090c5-df97-459e-ce46-51debd1f8d7d"
      },
      "outputs": [
        {
          "name": "stdout",
          "output_type": "stream",
          "text": [
            "Airbus A320\n",
            "175\n",
            "Boeing 787\n",
            "174\n",
            "Boeing 737\n",
            "174\n",
            "Airbus A380\n",
            "174\n",
            "Boeing 777\n",
            "175\n"
          ]
        }
      ],
      "source": [
        "lst=df[\"Aircraft_Type\"].unique()\n",
        "for i in range(0,len(lst)):\n",
        "    l=df[df[\"Aircraft_Type\"]==lst[i]][\"Passenger_Count\"].mean()\n",
        "    print(lst[i])\n",
        "    print(int(l))"
      ]
    },
    {
      "cell_type": "code",
      "execution_count": 106,
      "metadata": {},
      "outputs": [
        {
          "name": "stderr",
          "output_type": "stream",
          "text": [
            "C:\\Users\\Ehtesham Ashraf\\AppData\\Local\\Temp\\ipykernel_34216\\3725000579.py:2: FutureWarning: \n",
            "\n",
            "Passing `palette` without assigning `hue` is deprecated and will be removed in v0.14.0. Assign the `x` variable to `hue` and set `legend=False` for the same effect.\n",
            "\n",
            "  sns.barplot(x=df['Aircraft_Type'],y=df['Passenger_Count'],palette='hls')\n"
          ]
        },
        {
          "data": {
            "image/png": "[encoded data removed]",
            "text/plain": [
              "<Figure size 800x500 with 1 Axes>"
            ]
          },
          "metadata": {},
          "output_type": "display_data"
        }
      ],
      "source": [
        "plt.figure(figsize=(8,5))\n",
        "sns.barplot(x=df['Aircraft_Type'],y=df['Passenger_Count'],palette='hls')\n",
        "plt.title('Flight fare during different Weather_Conditions',fontsize=15)\n",
        "plt.xlabel('Weather_Conditions',fontsize=15)\n",
        "plt.ylabel('Fare',fontsize=15)\n",
        "plt.show()"
      ]
    },
    {
      "cell_type": "code",
      "execution_count": 107,
      "metadata": {
        "colab": {
          "base_uri": "https://localhost:8080/",
          "height": 496
        },
        "id": "-64097eIZ8TI",
        "outputId": "48ecd1ad-7b75-4e10-c46f-3e78ae636de2"
      },
      "outputs": [
        {
          "name": "stderr",
          "output_type": "stream",
          "text": [
            "C:\\Users\\Ehtesham Ashraf\\AppData\\Local\\Temp\\ipykernel_34216\\1050830271.py:2: FutureWarning: \n",
            "\n",
            "Passing `palette` without assigning `hue` is deprecated and will be removed in v0.14.0. Assign the `x` variable to `hue` and set `legend=False` for the same effect.\n",
            "\n",
            "  sns.barplot(x=df['Number_of_Stops'],y=df['Flight_Price'],palette='hls')\n"
          ]
        },
        {
          "data": {
            "image/png": "[encoded data removed]",
            "text/plain": [
              "<Figure size 800x500 with 1 Axes>"
            ]
          },
          "metadata": {},
          "output_type": "display_data"
        }
      ],
      "source": [
        "plt.figure(figsize=(8,5))\n",
        "sns.barplot(x=df['Number_of_Stops'],y=df['Flight_Price'],palette='hls')\n",
        "plt.title('Flight fare different Number_of_Stops',fontsize=15)\n",
        "plt.xlabel('Number_of_Stops',fontsize=15)\n",
        "plt.ylabel('Fare',fontsize=15)\n",
        "plt.show()"
      ]
    },
    {
      "cell_type": "code",
      "execution_count": 108,
      "metadata": {
        "colab": {
          "base_uri": "https://localhost:8080/",
          "height": 496
        },
        "id": "8Eb6MpLHaA-1",
        "outputId": "db643465-ab81-47f7-be58-651115b76648"
      },
      "outputs": [
        {
          "name": "stderr",
          "output_type": "stream",
          "text": [
            "C:\\Users\\Ehtesham Ashraf\\AppData\\Local\\Temp\\ipykernel_34216\\2315715015.py:2: FutureWarning: \n",
            "\n",
            "Passing `palette` without assigning `hue` is deprecated and will be removed in v0.14.0. Assign the `x` variable to `hue` and set `legend=False` for the same effect.\n",
            "\n",
            "  sns.countplot(x=df['Day_of_Week'],palette='hls')\n"
          ]
        },
        {
          "data": {
            "image/png": "[encoded data removed]",
            "text/plain": [
              "<Figure size 800x500 with 1 Axes>"
            ]
          },
          "metadata": {},
          "output_type": "display_data"
        }
      ],
      "source": [
        "plt.figure(figsize=(8,5))\n",
        "sns.countplot(x=df['Day_of_Week'],palette='hls')\n",
        "plt.title('Flights Count of Day_of_Week',fontsize=15)\n",
        "plt.xlabel('Day_of_Week',fontsize=15)\n",
        "plt.ylabel('Count',fontsize=15)\n",
        "plt.show()"
      ]
    },
    {
      "cell_type": "code",
      "execution_count": 109,
      "metadata": {},
      "outputs": [
        {
          "name": "stdout",
          "output_type": "stream",
          "text": [
            "<class 'pandas.core.frame.DataFrame'>\n",
            "Index: 40004 entries, 1 to 44999\n",
            "Data columns (total 17 columns):\n",
            " #   Column              Non-Null Count  Dtype  \n",
            "---  ------              --------------  -----  \n",
            " 0   Airline             40004 non-null  object \n",
            " 1   Departure_City      40004 non-null  object \n",
            " 2   Arrival_City        40004 non-null  object \n",
            " 3   Distance            40004 non-null  float64\n",
            " 4   Departure_Time      40004 non-null  object \n",
            " 5   Arrival_Time        40004 non-null  object \n",
            " 6   Duration            40004 non-null  float64\n",
            " 7   Aircraft_Type       40004 non-null  object \n",
            " 8   Number_of_Stops     40004 non-null  int64  \n",
            " 9   Day_of_Week         40004 non-null  object \n",
            " 10  Month_of_Travel     40004 non-null  object \n",
            " 11  Demand              40004 non-null  object \n",
            " 12  Weather_Conditions  40004 non-null  object \n",
            " 13  Passenger_Count     40004 non-null  int64  \n",
            " 14  Promotion_Type      40004 non-null  object \n",
            " 15  Fuel_Price          40004 non-null  float64\n",
            " 16  Flight_Price        40004 non-null  float64\n",
            "dtypes: float64(4), int64(2), object(11)\n",
            "memory usage: 5.5+ MB\n"
          ]
        }
      ],
      "source": [
        "df.info()"
      ]
    },
    {
      "cell_type": "code",
      "execution_count": 110,
      "metadata": {
        "id": "w9nQFKxXaECc"
      },
      "outputs": [],
      "source": [
        "df_bk=df.copy()"
      ]
    },
    {
      "cell_type": "code",
      "execution_count": 111,
      "metadata": {
        "id": "p-Pq0_lUaJ3Y"
      },
      "outputs": [],
      "source": [
        "from sklearn.preprocessing import LabelEncoder\n",
        "le=LabelEncoder()\n",
        "for col in df.columns:\n",
        "    if df[col].dtype==\"object\":\n",
        "        #df[col] = df[col].apply(pd.to_numeric, errors='coerce')\n",
        "        df[col]=le.fit_transform(df[col])"
      ]
    },
    {
      "cell_type": "code",
      "execution_count": 112,
      "metadata": {},
      "outputs": [
        {
          "data": {
            "text/html": [
              "<div>\n",
              "<style scoped>\n",
              "    .dataframe tbody tr th:only-of-type {\n",
              "        vertical-align: middle;\n",
              "    }\n",
              "\n",
              "    .dataframe tbody tr th {\n",
              "        vertical-align: top;\n",
              "    }\n",
              "\n",
              "    .dataframe thead th {\n",
              "        text-align: right;\n",
              "    }\n",
              "</style>\n",
              "<table border=\"1\" class=\"dataframe\">\n",
              "  <thead>\n",
              "    <tr style=\"text-align: right;\">\n",
              "      <th></th>\n",
              "      <th>Airline</th>\n",
              "      <th>Departure_City</th>\n",
              "      <th>Arrival_City</th>\n",
              "      <th>Distance</th>\n",
              "      <th>Departure_Time</th>\n",
              "      <th>Arrival_Time</th>\n",
              "      <th>Duration</th>\n",
              "      <th>Aircraft_Type</th>\n",
              "      <th>Number_of_Stops</th>\n",
              "      <th>Day_of_Week</th>\n",
              "      <th>Month_of_Travel</th>\n",
              "      <th>Demand</th>\n",
              "      <th>Weather_Conditions</th>\n",
              "      <th>Passenger_Count</th>\n",
              "      <th>Promotion_Type</th>\n",
              "      <th>Fuel_Price</th>\n",
              "      <th>Flight_Price</th>\n",
              "    </tr>\n",
              "  </thead>\n",
              "  <tbody>\n",
              "    <tr>\n",
              "      <th>1</th>\n",
              "      <td>2</td>\n",
              "      <td>8901</td>\n",
              "      <td>11782</td>\n",
              "      <td>2942.0</td>\n",
              "      <td>4</td>\n",
              "      <td>2</td>\n",
              "      <td>5.29</td>\n",
              "      <td>0</td>\n",
              "      <td>0</td>\n",
              "      <td>6</td>\n",
              "      <td>7</td>\n",
              "      <td>1</td>\n",
              "      <td>2</td>\n",
              "      <td>107</td>\n",
              "      <td>1</td>\n",
              "      <td>1.08</td>\n",
              "      <td>423.13</td>\n",
              "    </tr>\n",
              "    <tr>\n",
              "      <th>2</th>\n",
              "      <td>1</td>\n",
              "      <td>17430</td>\n",
              "      <td>14257</td>\n",
              "      <td>2468.0</td>\n",
              "      <td>3</td>\n",
              "      <td>0</td>\n",
              "      <td>4.41</td>\n",
              "      <td>4</td>\n",
              "      <td>1</td>\n",
              "      <td>3</td>\n",
              "      <td>11</td>\n",
              "      <td>0</td>\n",
              "      <td>1</td>\n",
              "      <td>131</td>\n",
              "      <td>1</td>\n",
              "      <td>0.52</td>\n",
              "      <td>442.17</td>\n",
              "    </tr>\n",
              "    <tr>\n",
              "      <th>4</th>\n",
              "      <td>1</td>\n",
              "      <td>9799</td>\n",
              "      <td>13759</td>\n",
              "      <td>5558.0</td>\n",
              "      <td>4</td>\n",
              "      <td>3</td>\n",
              "      <td>8.09</td>\n",
              "      <td>2</td>\n",
              "      <td>1</td>\n",
              "      <td>4</td>\n",
              "      <td>4</td>\n",
              "      <td>1</td>\n",
              "      <td>0</td>\n",
              "      <td>181</td>\n",
              "      <td>1</td>\n",
              "      <td>1.09</td>\n",
              "      <td>804.35</td>\n",
              "    </tr>\n",
              "    <tr>\n",
              "      <th>6</th>\n",
              "      <td>1</td>\n",
              "      <td>20949</td>\n",
              "      <td>14391</td>\n",
              "      <td>3274.0</td>\n",
              "      <td>1</td>\n",
              "      <td>4</td>\n",
              "      <td>5.60</td>\n",
              "      <td>4</td>\n",
              "      <td>0</td>\n",
              "      <td>6</td>\n",
              "      <td>4</td>\n",
              "      <td>1</td>\n",
              "      <td>0</td>\n",
              "      <td>248</td>\n",
              "      <td>2</td>\n",
              "      <td>1.03</td>\n",
              "      <td>429.53</td>\n",
              "    </tr>\n",
              "    <tr>\n",
              "      <th>8</th>\n",
              "      <td>2</td>\n",
              "      <td>1269</td>\n",
              "      <td>6390</td>\n",
              "      <td>1116.0</td>\n",
              "      <td>3</td>\n",
              "      <td>0</td>\n",
              "      <td>2.46</td>\n",
              "      <td>0</td>\n",
              "      <td>0</td>\n",
              "      <td>6</td>\n",
              "      <td>6</td>\n",
              "      <td>2</td>\n",
              "      <td>1</td>\n",
              "      <td>56</td>\n",
              "      <td>1</td>\n",
              "      <td>0.85</td>\n",
              "      <td>385.73</td>\n",
              "    </tr>\n",
              "    <tr>\n",
              "      <th>...</th>\n",
              "      <td>...</td>\n",
              "      <td>...</td>\n",
              "      <td>...</td>\n",
              "      <td>...</td>\n",
              "      <td>...</td>\n",
              "      <td>...</td>\n",
              "      <td>...</td>\n",
              "      <td>...</td>\n",
              "      <td>...</td>\n",
              "      <td>...</td>\n",
              "      <td>...</td>\n",
              "      <td>...</td>\n",
              "      <td>...</td>\n",
              "      <td>...</td>\n",
              "      <td>...</td>\n",
              "      <td>...</td>\n",
              "      <td>...</td>\n",
              "    </tr>\n",
              "    <tr>\n",
              "      <th>44995</th>\n",
              "      <td>1</td>\n",
              "      <td>14562</td>\n",
              "      <td>9505</td>\n",
              "      <td>3884.0</td>\n",
              "      <td>4</td>\n",
              "      <td>2</td>\n",
              "      <td>5.70</td>\n",
              "      <td>4</td>\n",
              "      <td>1</td>\n",
              "      <td>3</td>\n",
              "      <td>8</td>\n",
              "      <td>1</td>\n",
              "      <td>0</td>\n",
              "      <td>263</td>\n",
              "      <td>0</td>\n",
              "      <td>0.69</td>\n",
              "      <td>417.18</td>\n",
              "    </tr>\n",
              "    <tr>\n",
              "      <th>44996</th>\n",
              "      <td>0</td>\n",
              "      <td>4044</td>\n",
              "      <td>4395</td>\n",
              "      <td>9191.0</td>\n",
              "      <td>4</td>\n",
              "      <td>3</td>\n",
              "      <td>12.97</td>\n",
              "      <td>0</td>\n",
              "      <td>1</td>\n",
              "      <td>0</td>\n",
              "      <td>2</td>\n",
              "      <td>1</td>\n",
              "      <td>3</td>\n",
              "      <td>168</td>\n",
              "      <td>0</td>\n",
              "      <td>0.74</td>\n",
              "      <td>687.03</td>\n",
              "    </tr>\n",
              "    <tr>\n",
              "      <th>44997</th>\n",
              "      <td>2</td>\n",
              "      <td>9959</td>\n",
              "      <td>20585</td>\n",
              "      <td>6757.0</td>\n",
              "      <td>2</td>\n",
              "      <td>3</td>\n",
              "      <td>8.81</td>\n",
              "      <td>3</td>\n",
              "      <td>1</td>\n",
              "      <td>6</td>\n",
              "      <td>10</td>\n",
              "      <td>1</td>\n",
              "      <td>3</td>\n",
              "      <td>244</td>\n",
              "      <td>2</td>\n",
              "      <td>0.83</td>\n",
              "      <td>547.39</td>\n",
              "    </tr>\n",
              "    <tr>\n",
              "      <th>44998</th>\n",
              "      <td>1</td>\n",
              "      <td>19160</td>\n",
              "      <td>5012</td>\n",
              "      <td>3587.0</td>\n",
              "      <td>0</td>\n",
              "      <td>1</td>\n",
              "      <td>6.21</td>\n",
              "      <td>2</td>\n",
              "      <td>0</td>\n",
              "      <td>2</td>\n",
              "      <td>6</td>\n",
              "      <td>2</td>\n",
              "      <td>1</td>\n",
              "      <td>121</td>\n",
              "      <td>2</td>\n",
              "      <td>0.60</td>\n",
              "      <td>487.67</td>\n",
              "    </tr>\n",
              "    <tr>\n",
              "      <th>44999</th>\n",
              "      <td>1</td>\n",
              "      <td>5579</td>\n",
              "      <td>1830</td>\n",
              "      <td>4890.0</td>\n",
              "      <td>2</td>\n",
              "      <td>3</td>\n",
              "      <td>7.70</td>\n",
              "      <td>0</td>\n",
              "      <td>0</td>\n",
              "      <td>1</td>\n",
              "      <td>2</td>\n",
              "      <td>1</td>\n",
              "      <td>2</td>\n",
              "      <td>91</td>\n",
              "      <td>1</td>\n",
              "      <td>0.95</td>\n",
              "      <td>532.92</td>\n",
              "    </tr>\n",
              "  </tbody>\n",
              "</table>\n",
              "<p>40004 rows × 17 columns</p>\n",
              "</div>"
            ],
            "text/plain": [
              "       Airline  Departure_City  Arrival_City  Distance  Departure_Time  \\\n",
              "1            2            8901         11782    2942.0               4   \n",
              "2            1           17430         14257    2468.0               3   \n",
              "4            1            9799         13759    5558.0               4   \n",
              "6            1           20949         14391    3274.0               1   \n",
              "8            2            1269          6390    1116.0               3   \n",
              "...        ...             ...           ...       ...             ...   \n",
              "44995        1           14562          9505    3884.0               4   \n",
              "44996        0            4044          4395    9191.0               4   \n",
              "44997        2            9959         20585    6757.0               2   \n",
              "44998        1           19160          5012    3587.0               0   \n",
              "44999        1            5579          1830    4890.0               2   \n",
              "\n",
              "       Arrival_Time  Duration  Aircraft_Type  Number_of_Stops  Day_of_Week  \\\n",
              "1                 2      5.29              0                0            6   \n",
              "2                 0      4.41              4                1            3   \n",
              "4                 3      8.09              2                1            4   \n",
              "6                 4      5.60              4                0            6   \n",
              "8                 0      2.46              0                0            6   \n",
              "...             ...       ...            ...              ...          ...   \n",
              "44995             2      5.70              4                1            3   \n",
              "44996             3     12.97              0                1            0   \n",
              "44997             3      8.81              3                1            6   \n",
              "44998             1      6.21              2                0            2   \n",
              "44999             3      7.70              0                0            1   \n",
              "\n",
              "       Month_of_Travel  Demand  Weather_Conditions  Passenger_Count  \\\n",
              "1                    7       1                   2              107   \n",
              "2                   11       0                   1              131   \n",
              "4                    4       1                   0              181   \n",
              "6                    4       1                   0              248   \n",
              "8                    6       2                   1               56   \n",
              "...                ...     ...                 ...              ...   \n",
              "44995                8       1                   0              263   \n",
              "44996                2       1                   3              168   \n",
              "44997               10       1                   3              244   \n",
              "44998                6       2                   1              121   \n",
              "44999                2       1                   2               91   \n",
              "\n",
              "       Promotion_Type  Fuel_Price  Flight_Price  \n",
              "1                   1        1.08        423.13  \n",
              "2                   1        0.52        442.17  \n",
              "4                   1        1.09        804.35  \n",
              "6                   2        1.03        429.53  \n",
              "8                   1        0.85        385.73  \n",
              "...               ...         ...           ...  \n",
              "44995               0        0.69        417.18  \n",
              "44996               0        0.74        687.03  \n",
              "44997               2        0.83        547.39  \n",
              "44998               2        0.60        487.67  \n",
              "44999               1        0.95        532.92  \n",
              "\n",
              "[40004 rows x 17 columns]"
            ]
          },
          "execution_count": 112,
          "metadata": {},
          "output_type": "execute_result"
        }
      ],
      "source": [
        "df"
      ]
    },
    {
      "cell_type": "code",
      "execution_count": 113,
      "metadata": {
        "id": "e6Ov-kBJaNHd"
      },
      "outputs": [],
      "source": [
        "X=df.iloc[:,:-1]\n",
        "y=df.iloc[:,-1]"
      ]
    },
    {
      "cell_type": "code",
      "execution_count": 114,
      "metadata": {
        "id": "jpL50irsaQon"
      },
      "outputs": [],
      "source": [
        "from sklearn.model_selection import train_test_split\n",
        "x_train,x_test,y_train,y_test=train_test_split(X,y,test_size=0.20,random_state=42)"
      ]
    },
    {
      "cell_type": "code",
      "execution_count": 115,
      "metadata": {},
      "outputs": [],
      "source": [
        "from sklearn.preprocessing import StandardScaler\n",
        "stsc = StandardScaler()\n",
        "x_train = stsc.fit_transform(x_train)\n",
        "x_test = stsc.transform(x_test)"
      ]
    },
    {
      "cell_type": "code",
      "execution_count": 116,
      "metadata": {
        "id": "1580wyNOaWba"
      },
      "outputs": [],
      "source": [
        "from sklearn.tree import DecisionTreeRegressor\n",
        "from sklearn.neighbors import KNeighborsRegressor"
      ]
    },
    {
      "cell_type": "code",
      "execution_count": 117,
      "metadata": {
        "id": "R7eNuV3GaR6G"
      },
      "outputs": [],
      "source": [
        "mdldctr=DecisionTreeRegressor()\n",
        "mdlknnr1=KNeighborsRegressor(n_neighbors=5)"
      ]
    },
    {
      "cell_type": "code",
      "execution_count": 118,
      "metadata": {
        "id": "4E2izxh5avPk"
      },
      "outputs": [],
      "source": [
        "mdldctr.fit(x_train,y_train)\n",
        "mdlknnr1.fit(x_train,y_train)\n",
        "\n",
        "ypred1=mdldctr.predict(x_test)\n",
        "ypred2=mdlknnr1.predict(x_test)"
      ]
    },
    {
      "cell_type": "code",
      "execution_count": 136,
      "metadata": {
        "colab": {
          "base_uri": "https://localhost:8080/"
        },
        "id": "XfJrCyhNaTS8",
        "outputId": "acb3b036-9dbc-4f10-c36a-ee74ba52fb98"
      },
      "outputs": [
        {
          "name": "stdout",
          "output_type": "stream",
          "text": [
            "R-Squared for the Decision tree regressor = 0.957.\n",
            "R-Squared for the KNearestNeighbor regressor with K=5 = 0.903.\n"
          ]
        }
      ],
      "source": [
        "from sklearn import metrics\n",
        "p1=round(mdldctr.score(x_test,y_test),3)\n",
        "print(f\"R-Squared for the Decision tree regressor = {p1}.\")\n",
        "p2=round(mdlknnr1.score(x_test,y_test),3)\n",
        "print(f\"R-Squared for the KNearestNeighbor regressor with K=5 = {p2}.\")"
      ]
    },
    {
      "cell_type": "code",
      "execution_count": 144,
      "metadata": {},
      "outputs": [
        {
          "data": {
            "image/png": "[encoded data removed]",
            "text/plain": [
              "<Figure size 1200x600 with 2 Axes>"
            ]
          },
          "metadata": {},
          "output_type": "display_data"
        }
      ],
      "source": [
        "plt.figure(figsize=(12,6))\n",
        "plt.subplot(121)\n",
        "plt.title(\"Decision Tree Predictions\")\n",
        "plt.ylabel(\"Predicted Flight Price\")\n",
        "sns.regplot(x=y_test,y=ypred1,color='red')\n",
        "plt.text(350,1200,f\"R^2 = {p1}\")\n",
        "plt.xlabel(\"Actual Flight Price\")\n",
        "plt.subplot(122)\n",
        "sns.regplot(x=y_test,y=ypred2,color='blue')\n",
        "plt.text(350,1070,f\"R^2 = {p2}\")\n",
        "plt.title(\"KNN Predictions\")\n",
        "plt.xlabel(\"Actual Flight Price\")\n",
        "plt.show()"
      ]
    },
    {
      "cell_type": "code",
      "execution_count": 146,
      "metadata": {
        "colab": {
          "base_uri": "https://localhost:8080/"
        },
        "id": "3T8KWOa9arvo",
        "outputId": "0024b591-5cbd-4a5b-9c50-34d53ac70354"
      },
      "outputs": [
        {
          "name": "stdout",
          "output_type": "stream",
          "text": [
            "Performance metrics for the DecisionTree Regressor:\n",
            "Mean Absolute Percentage Error (MAPE): 4.455 %\n",
            "Mean Absolute Error (MAE): $ 24.62\n",
            "Mean Squared Error (MSE): $ 1133.35\n",
            "Root Mean Squared Error (RMSE): $ 33.67\n",
            "\n",
            "Performance metrics for the KNN Regressor:\n",
            "Mean Absolute Percentage Error (MAPE): 7.351 %\n",
            "Mean Absolute Error (MAE): $ 39.11\n",
            "Mean Squared Error (MSE): $ 2539.48\n",
            "Root Mean Squared Error (RMSE): $ 50.39\n"
          ]
        }
      ],
      "source": [
        "from sklearn import metrics\n",
        "print(\"Performance metrics for the DecisionTree Regressor:\")\n",
        "print('Mean Absolute Percentage Error (MAPE):', round(metrics.mean_absolute_percentage_error(y_test, ypred1)*100,3),\"%\")\n",
        "print('Mean Absolute Error (MAE): $', round(metrics.mean_absolute_error(y_test, ypred1),2))\n",
        "print('Mean Squared Error (MSE): $', round(metrics.mean_squared_error(y_test, ypred1),2))\n",
        "print('Root Mean Squared Error (RMSE): $', round(np.sqrt(metrics.mean_squared_error(y_test, ypred1)),2))\n",
        "\n",
        "print()\n",
        "print(\"Performance metrics for the KNN Regressor:\")\n",
        "print('Mean Absolute Percentage Error (MAPE):', round(metrics.mean_absolute_percentage_error(y_test, ypred2)*100,3),\"%\")\n",
        "print('Mean Absolute Error (MAE): $', round(metrics.mean_absolute_error(y_test, ypred2),2))\n",
        "print('Mean Squared Error (MSE): $', round(metrics.mean_squared_error(y_test, ypred2),2))\n",
        "print('Root Mean Squared Error (RMSE): $', round(np.sqrt(metrics.mean_squared_error(y_test, ypred2)),2))"
      ]
    },
    {
      "cell_type": "code",
      "execution_count": null,
      "metadata": {
        "id": "ZlLnYGrVa181"
      },
      "outputs": [],
      "source": []
    }
  ],
  "metadata": {
    "colab": {
      "provenance": []
    },
    "kernelspec": {
      "display_name": "Python 3",
      "name": "python3"
    },
    "language_info": {
      "codemirror_mode": {
        "name": "ipython",
        "version": 3
      },
      "file_extension": ".py",
      "mimetype": "text/x-python",
      "name": "python",
      "nbconvert_exporter": "python",
      "pygments_lexer": "ipython3",
      "version": "3.11.4"
    }
  },
  "nbformat": 4,
  "nbformat_minor": 0
}
